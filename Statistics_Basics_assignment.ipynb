{
  "nbformat": 4,
  "nbformat_minor": 0,
  "metadata": {
    "colab": {
      "provenance": []
    },
    "kernelspec": {
      "name": "python3",
      "display_name": "Python 3"
    },
    "language_info": {
      "name": "python"
    }
  },
  "cells": [
    {
      "cell_type": "markdown",
      "source": [
        "***Statistics Basics***"
      ],
      "metadata": {
        "id": "K-Glfkf3hd-E"
      }
    },
    {
      "cell_type": "markdown",
      "source": [
        "1. What is statistics, and why is it important?\n",
        "\n",
        "- **Statistics** is the branch of mathematics that deals with collecting, analyzing, interpreting, presenting, and organizing data. It helps us understand and make sense of data by summarizing patterns, trends, and relationships.\n",
        "\n",
        "### There are two main types of statistics:\n",
        "\n",
        "1. **Descriptive Statistics**:\n",
        "\n",
        "   * Summarizes and describes the features of a dataset.\n",
        "   * Examples: Mean (average), median, mode, standard deviation, charts, and graphs.\n",
        "\n",
        "2. **Inferential Statistics**:\n",
        "\n",
        "   * Makes predictions or inferences about a population based on a sample of data.\n",
        "   * Examples: Hypothesis testing, confidence intervals, regression analysis.\n",
        "\n",
        "---\n",
        "\n",
        "### Why Statistics Is Important:\n",
        "\n",
        "1. **Informed Decision-Making**\n",
        "\n",
        "   * Helps individuals, businesses, and governments make data-driven decisions instead of relying on guesswork.\n",
        "\n",
        "2. **Understanding Data**\n",
        "\n",
        "   * Allows us to summarize complex data in a meaningful way using measures and visualizations.\n",
        "\n",
        "3. **Identifying Trends and Patterns**\n",
        "\n",
        "   * Useful in economics, science, healthcare, and social sciences to detect changes over time or differences between groups.\n",
        "\n",
        "4. **Quality Control and Improvement**\n",
        "\n",
        "   * Used in manufacturing and business to monitor performance and improve processes.\n",
        "\n",
        "5. **Risk Assessment**\n",
        "\n",
        "   * Essential in fields like insurance, finance, and public health to evaluate and manage risk.\n",
        "\n",
        "6. **Scientific Research**\n",
        "\n",
        "   * Forms the backbone of designing experiments, testing hypotheses, and validating findings.\n",
        "\n"
      ],
      "metadata": {
        "id": "Y6y9oSfIhjKc"
      }
    },
    {
      "cell_type": "markdown",
      "source": [
        "2. What are the two main types of statistics?\n",
        "\n",
        "- The **two main types of statistics** are:\n",
        "\n",
        "---\n",
        "\n",
        "### 1. **Descriptive Statistics**\n",
        "\n",
        "Descriptive statistics summarize and describe the main features of a dataset. They help simplify large amounts of data in a meaningful way.\n",
        "\n",
        "**Examples:**\n",
        "\n",
        "* **Measures of central tendency**: Mean (average), median, mode\n",
        "* **Measures of dispersion**: Range, variance, standard deviation\n",
        "* **Data presentation**: Tables, charts, graphs\n",
        "\n",
        "**Purpose:**\n",
        "To provide a quick overview of the data without making any predictions or generalizations beyond it.\n",
        "\n",
        "---\n",
        "\n",
        "### 2. **Inferential Statistics**\n",
        "\n",
        "Inferential statistics use a sample of data to make generalizations or predictions about a larger population.\n",
        "\n",
        "**Examples:**\n",
        "\n",
        "* **Hypothesis testing**\n",
        "* **Confidence intervals**\n",
        "* **Regression analysis**\n",
        "* **Probability distributions**\n",
        "\n"
      ],
      "metadata": {
        "id": "eewndNDqh0Ss"
      }
    },
    {
      "cell_type": "markdown",
      "source": [
        "3. What are descriptive statistics?\n",
        "\n",
        "- **Descriptive statistics** are methods used to **summarize, organize, and simplify data** so that it can be easily understood. Instead of drawing conclusions or making predictions (like inferential statistics), descriptive statistics simply **describe what the data shows**.\n",
        "\n",
        "---\n",
        "\n",
        "### 🔹 Key Features of Descriptive Statistics:\n",
        "\n",
        "1. **Measures of Central Tendency** – Indicate the center or typical value of a dataset:\n",
        "\n",
        "   * **Mean**: The average of the data.\n",
        "   * **Median**: The middle value when data is ordered.\n",
        "   * **Mode**: The most frequently occurring value.\n",
        "\n",
        "2. **Measures of Dispersion (or Variability)** – Show how spread out the data is:\n",
        "\n",
        "   * **Range**: Difference between the highest and lowest values.\n",
        "   * **Variance**: How much the values vary from the mean.\n",
        "   * **Standard Deviation**: Average distance of each data point from the mean.\n",
        "\n",
        "3. **Data Distribution & Shape**:\n",
        "\n",
        "   * **Skewness**: Indicates whether the data is symmetrically distributed or skewed left/right.\n",
        "   * **Kurtosis**: Measures the \"peakedness\" or \"flatness\" of the data distribution.\n",
        "\n",
        "4. **Data Visualization Tools**:\n",
        "\n",
        "   * **Tables**\n",
        "   * **Graphs** (e.g., bar charts, histograms, pie charts)\n",
        "   * **Box plots**\n",
        "\n",
        "---\n",
        "\n",
        "### 🔍 Example:\n",
        "\n",
        "Suppose you survey 5 students and record their test scores:\n",
        "**70, 80, 85, 90, 100**\n",
        "\n",
        "Descriptive statistics would include:\n",
        "\n",
        "* **Mean**: (70+80+85+90+100) / 5 = **85**\n",
        "* **Median**: 85 (middle score)\n",
        "* **Mode**: None (all scores are different)\n",
        "* **Range**: 100 - 70 = **30**\n",
        "* **Standard deviation**: Shows how much scores differ from the mean.\n",
        "\n"
      ],
      "metadata": {
        "id": "Nlj62mkziCoM"
      }
    },
    {
      "cell_type": "markdown",
      "source": [
        "4. 5 What is inferential statistics?\n",
        "\n",
        " - Inferential statistics is a branch of statistics that focuses on drawing conclusions, making predictions, or testing hypotheses about a larger population based on data collected from a smaller sample. Since it is often impractical or impossible to gather data from an entire population, inferential statistics provides tools to make educated guesses about population parameters using sample data. This includes techniques like confidence intervals, which estimate a range in which a population value is likely to fall, and hypothesis testing, which helps determine if observed patterns are statistically significant or occurred by chance. Inferential statistics is essential in fields such as science, medicine, business, and social research, where decisions and conclusions must often be made from limited data. It allows researchers and analysts to go beyond simply describing data and instead make meaningful, data-driven inferences about broader trends and relationships.\n"
      ],
      "metadata": {
        "id": "vdIS0ke6iaD8"
      }
    },
    {
      "cell_type": "markdown",
      "source": [
        "5. What is sampling in statistics?\n",
        "\n",
        "- **Sampling in statistics** is the process of selecting a **subset (called a sample)** from a larger group (called a **population**) to gather information and make conclusions about the entire population. Since it is often difficult, time-consuming, or expensive to collect data from every individual in a population, sampling provides a practical way to study the population more efficiently. The goal is to choose a sample that is representative of the population so that the findings from the sample can be accurately generalized. There are different sampling methods, such as **random sampling**, where every individual has an equal chance of being selected, and **stratified sampling**, where the population is divided into subgroups and samples are taken from each. Proper sampling is crucial in ensuring that the results of a statistical study are valid and unbiased.\n",
        "\n"
      ],
      "metadata": {
        "id": "eOoqfvROi7Gc"
      }
    },
    {
      "cell_type": "markdown",
      "source": [
        "6. What are the different types of sampling methods?\n",
        "\n",
        "- There are several **types of sampling methods** in statistics, which can be broadly divided into **probability sampling** and **non-probability sampling**. Each method has its own purpose, advantages, and limitations.\n",
        "\n",
        "---\n",
        "\n",
        "### 🔹 **1. Probability Sampling Methods**\n",
        "\n",
        "In these methods, every member of the population has a known and usually equal chance of being selected. These methods are more reliable and allow for generalizations about the population.\n",
        "\n",
        "#### a. **Simple Random Sampling**\n",
        "\n",
        "Every individual has an equal chance of being selected.\n",
        "✅ Example: Drawing names from a hat.\n",
        "\n",
        "#### b. **Systematic Sampling**\n",
        "\n",
        "You select every *k-th* item from a list after choosing a random starting point.\n",
        "✅ Example: Choosing every 10th person on a customer list.\n",
        "\n",
        "#### c. **Stratified Sampling**\n",
        "\n",
        "The population is divided into groups (strata) based on characteristics (e.g., age, gender), and samples are taken from each group.\n",
        "✅ Example: Surveying 50 students from each grade level.\n",
        "\n",
        "#### d. **Cluster Sampling**\n",
        "\n",
        "The population is divided into clusters (e.g., geographic areas), and entire clusters are randomly selected for study.\n",
        "✅ Example: Selecting 3 random schools and surveying all students in them.\n",
        "\n",
        "---\n",
        "\n",
        "### 🔸 **2. Non-Probability Sampling Methods**\n",
        "\n",
        "In these methods, not everyone has a known or equal chance of being selected. These are easier and cheaper but may be biased.\n",
        "\n",
        "#### a. **Convenience Sampling**\n",
        "\n",
        "Selecting individuals who are easiest to reach.\n",
        "⚠️ Example: Surveying people walking by on the street.\n",
        "\n",
        "#### b. **Judgmental (or Purposive) Sampling**\n",
        "\n",
        "The researcher selects individuals based on their knowledge or judgment.\n",
        "⚠️ Example: Interviewing only experienced workers for a job study.\n",
        "\n",
        "#### c. **Quota Sampling**\n",
        "\n",
        "The researcher ensures certain characteristics are represented but chooses participants non-randomly.\n",
        "⚠️ Example: Surveying 50 males and 50 females, selected by convenience.\n",
        "\n",
        "#### d. **Snowball Sampling**\n",
        "\n",
        "Used when subjects are hard to find. Existing subjects recruit future subjects.\n",
        "⚠️ Example: Studying a hidden or rare population like undocumented workers.\n",
        "\n"
      ],
      "metadata": {
        "id": "5NiKABNqjD9M"
      }
    },
    {
      "cell_type": "markdown",
      "source": [
        "7. What is the difference between random and non-random sampling?\n",
        "\n",
        "- The main difference between **random** and **non-random sampling** lies in **how participants are selected** from the population and whether every individual has an equal chance of being chosen.\n",
        "\n",
        "---\n",
        "\n",
        "### 🔹 **Random Sampling (Probability Sampling):**\n",
        "\n",
        "In random sampling, **every individual in the population has a known and usually equal chance** of being selected. The selection is made using a random process, which helps reduce bias and allows for generalizing results to the entire population.\n",
        "\n",
        "**Key Features:**\n",
        "\n",
        "* Selection is based on chance.\n",
        "* Reduces selection bias.\n",
        "* Results are more likely to represent the population.\n",
        "* Suitable for statistical inference (like hypothesis testing and confidence intervals).\n",
        "\n",
        "**Examples:**\n",
        "\n",
        "* Drawing names from a hat.\n",
        "* Using a random number generator to pick participants.\n",
        "* Stratified or cluster sampling.\n",
        "\n",
        "---\n",
        "\n",
        "### 🔸 **Non-Random Sampling (Non-Probability Sampling):**\n",
        "\n",
        "In non-random sampling, **not all individuals have a known or equal chance** of being selected. Selection often depends on convenience, judgment, or other non-random criteria, which can introduce bias.\n",
        "\n",
        "**Key Features:**\n",
        "\n",
        "* Selection is based on factors other than chance (e.g., convenience or judgment).\n",
        "* May not represent the entire population accurately.\n",
        "* Results are less reliable for generalization.\n",
        "* Often used when random sampling is difficult or expensive.\n",
        "\n",
        "**Examples:**\n",
        "\n",
        "* Surveying people nearby (convenience sampling).\n",
        "* Choosing participants based on specific traits (purposive sampling).\n",
        "* Asking participants to refer others (snowball sampling).\n",
        "\n",
        "\n",
        "\n"
      ],
      "metadata": {
        "id": "8eyus4TsjUZc"
      }
    },
    {
      "cell_type": "markdown",
      "source": [
        "8. Define and give examples of qualitative and quantitative data?\n",
        "\n",
        "- ### **Definition and Examples of Qualitative and Quantitative Data**\n",
        "\n",
        "---\n",
        "\n",
        "### 🔹 **Qualitative Data** (also called **Categorical Data**)\n",
        "\n",
        "**Definition:**\n",
        "Qualitative data describes **qualities, characteristics, or categories** that cannot be measured with numbers. It is usually **descriptive** and involves labels or names.\n",
        "\n",
        "**Examples:**\n",
        "\n",
        "* Colors of cars: red, blue, black\n",
        "* Types of cuisine: Italian, Chinese, Mexican\n",
        "* Customer feedback: satisfied, neutral, dissatisfied\n",
        "* Gender: male, female, non-binary\n",
        "* Eye color: brown, green, blue\n",
        "\n",
        "**Note:** Even though qualitative data may use words or codes, it doesn’t represent numerical values for calculation.\n",
        "\n",
        "---\n",
        "\n",
        "### 🔸 **Quantitative Data**\n",
        "\n",
        "**Definition:**\n",
        "Quantitative data consists of **numerical values** that represent measurable quantities. It can be **counted or measured** and is used for mathematical calculations.\n",
        "\n",
        "**Examples:**\n",
        "\n",
        "* Age: 18, 25, 40 years\n",
        "* Height: 160 cm, 175 cm\n",
        "* Number of students in a class: 30\n",
        "* Temperature: 22°C, 35°C\n",
        "* Income: \\$500, \\$2,000\n",
        "\n",
        "Quantitative data can be further divided into:\n",
        "\n",
        "* **Discrete data**: Countable values (e.g., number of children).\n",
        "* **Continuous data**: Measurable values that can take any number within a range (e.g., weight, time).\n",
        "\n"
      ],
      "metadata": {
        "id": "7pUr0MOdjoU0"
      }
    },
    {
      "cell_type": "markdown",
      "source": [
        "9. What are the different types of data in statistics?\n",
        "\n",
        "- In statistics, data is generally classified into **four main types** based on its nature and the kind of values it holds. These types help determine how data can be analyzed and interpreted:\n",
        "\n",
        "---\n",
        "\n",
        "### 1. **Nominal Data**\n",
        "\n",
        "* **Definition:** Data that represents categories or names without any natural order or ranking.\n",
        "* **Examples:** Gender (male, female), blood type (A, B, AB, O), colors (red, blue, green).\n",
        "\n",
        "---\n",
        "\n",
        "### 2. **Ordinal Data**\n",
        "\n",
        "* **Definition:** Data that represents categories with a meaningful order or ranking, but the differences between the ranks are not necessarily equal.\n",
        "* **Examples:** Movie ratings (poor, fair, good, excellent), class grades (A, B, C, D), customer satisfaction levels (unsatisfied, neutral, satisfied).\n",
        "\n",
        "---\n",
        "\n",
        "### 3. **Interval Data**\n",
        "\n",
        "* **Definition:** Numerical data with meaningful intervals between values, but no true zero point (zero does not mean absence of the quantity).\n",
        "* **Examples:** Temperature in Celsius or Fahrenheit, calendar years (e.g., 2000, 2020).\n",
        "\n",
        "---\n",
        "\n",
        "### 4. **Ratio Data**\n",
        "\n",
        "* **Definition:** Numerical data with meaningful intervals and a true zero point, allowing for comparisons of absolute magnitude.\n",
        "* **Examples:** Height, weight, age, income, number of children.\n",
        "\n"
      ],
      "metadata": {
        "id": "Zqzpb3wrj6M0"
      }
    },
    {
      "cell_type": "markdown",
      "source": [
        "10. Explain nominal, ordinal, interval, and ratio levels of measurement?\n",
        "\n",
        "- Certainly! Here’s a clear explanation of the **four levels of measurement** in statistics — **nominal, ordinal, interval, and ratio** — which describe how data is categorized and the kind of mathematical operations you can perform on it:\n",
        "\n",
        "---\n",
        "\n",
        "### 1. **Nominal Level**\n",
        "\n",
        "* **Description:** This is the simplest level of measurement. Data are categorized into distinct groups or names that **have no natural order or ranking**.\n",
        "* **Key point:** Categories are just labels.\n",
        "* **Example:** Types of fruit (apple, banana, orange), gender (male, female), blood groups (A, B, AB, O).\n",
        "* **Operations:** You can count how many fall into each category, but you can’t say one category is “more” or “less” than another.\n",
        "\n",
        "---\n",
        "\n",
        "### 2. **Ordinal Level**\n",
        "\n",
        "* **Description:** Data are placed into categories that **have a meaningful order or ranking**, but the intervals between ranks are **not necessarily equal**.\n",
        "* **Key point:** Order matters, but the difference between ranks is unclear or unequal.\n",
        "* **Example:** Movie ratings (poor, fair, good, excellent), class grades (A, B, C), satisfaction levels (unsatisfied, neutral, satisfied).\n",
        "* **Operations:** You can say one category is higher or lower than another, but you cannot measure how much higher.\n",
        "\n",
        "---\n",
        "\n",
        "### 3. **Interval Level**\n",
        "\n",
        "* **Description:** Data have **ordered categories with equal intervals** between values, but there is **no true zero point** (zero does not mean “none” of the quantity).\n",
        "* **Key point:** You can measure the difference between values, but ratios don’t make sense.\n",
        "* **Example:** Temperature in Celsius or Fahrenheit (0°C doesn’t mean “no temperature”), calendar years.\n",
        "* **Operations:** You can add and subtract values, but cannot multiply or divide meaningfully.\n",
        "\n",
        "---\n",
        "\n",
        "### 4. **Ratio Level**\n",
        "\n",
        "* **Description:** Data have all the properties of interval data, but also have a **meaningful zero point**, which indicates the absence of the quantity measured.\n",
        "* **Key point:** Ratios and comparisons make sense (e.g., twice as much).\n",
        "* **Example:** Height, weight, age, income, number of children.\n",
        "* **Operations:** You can add, subtract, multiply, and divide values.\n",
        "\n"
      ],
      "metadata": {
        "id": "JGMMGc_okxi8"
      }
    },
    {
      "cell_type": "markdown",
      "source": [
        "11. What is the measure of central tendency?\n",
        "\n",
        "- The **measure of central tendency** is a statistical concept that refers to a single value that best represents the center or typical value of a dataset. It provides a summary that helps to understand where most data points tend to cluster. The most common measures of central tendency are the **mean**, which is the average calculated by adding all values and dividing by the number of values; the **median**, which is the middle value when data are arranged in order and is useful for skewed data or when outliers are present; and the **mode**, which is the most frequently occurring value in the dataset and is often used with categorical data. These measures are important because they simplify complex data sets and offer insights into the overall pattern of the data, aiding in comparison and decision-making.\n"
      ],
      "metadata": {
        "id": "UPp8R6ixk_k0"
      }
    },
    {
      "cell_type": "markdown",
      "source": [
        "12. Define mean, median, and mode?\n",
        "\n",
        "- **Mean, median, and mode** are the three primary measures of central tendency used to describe the center of a dataset. The **mean** is the arithmetic average, calculated by adding all the values in a dataset and dividing by the total number of values. The **median** is the middle value when the data is arranged in ascending or descending order; if there is an even number of observations, the median is the average of the two middle values. The **mode** is the value that occurs most frequently in the dataset. While the mean is sensitive to extreme values (outliers), the median provides a better central value for skewed data, and the mode is useful for identifying the most common category or value. Together, these measures help summarize and understand the distribution of data.\n"
      ],
      "metadata": {
        "id": "1O5_c9lklUqz"
      }
    },
    {
      "cell_type": "markdown",
      "source": [
        "13. What is the significance of the measure of central tendency?\n",
        "\n",
        " - The measure of central tendency is significant because it provides a simple and concise summary of a large set of data by identifying a single value that best represents the entire dataset. This helps in understanding the general pattern or typical value within the data, making complex information easier to interpret and communicate. Measures like the mean, median, and mode allow researchers, analysts, and decision-makers to compare different groups, detect trends, and make informed predictions or decisions based on the central value of data. Additionally, knowing the central tendency is essential for further statistical analysis and helps in identifying anomalies or outliers within the dataset.\n"
      ],
      "metadata": {
        "id": "q94de7j3ld5M"
      }
    },
    {
      "cell_type": "markdown",
      "source": [
        "14. What is variance, and how is it calculated?\n",
        "\n",
        "- **Variance** is a statistical measure that quantifies the **spread or dispersion** of a set of data points around their mean (average). It tells us how much the data values differ from the mean on average — a higher variance means data points are more spread out, while a lower variance indicates they are closer to the mean.\n",
        "\n",
        "---\n",
        "\n",
        "### How to calculate variance:\n",
        "\n",
        "1. **Find the mean** of the data set.\n",
        "2. **Subtract the mean** from each data point to find the deviation of each value.\n",
        "3. **Square** each deviation (to make them positive and emphasize larger differences).\n",
        "4. **Find the average** of these squared deviations.\n",
        "\n",
        "   * For a **population variance**, divide by the total number of data points (N).\n",
        "   * For a **sample variance**, divide by one less than the number of data points (n - 1), which corrects bias in the estimate.\n",
        "\n",
        "---\n",
        "\n",
        "### Formula:\n",
        "\n",
        "* **Population Variance (σ²):**\n",
        "\n",
        "$$\n",
        "\\sigma^2 = \\frac{1}{N} \\sum_{i=1}^N (x_i - \\mu)^2\n",
        "$$\n",
        "\n",
        "* **Sample Variance (s²):**\n",
        "\n",
        "$$\n",
        "s^2 = \\frac{1}{n-1} \\sum_{i=1}^n (x_i - \\bar{x})^2\n",
        "$$\n",
        "\n",
        "Where:\n",
        "\n",
        "* $x_i$ = each data point\n",
        "* $\\mu$ = population mean\n",
        "* $\\bar{x}$ = sample mean\n",
        "* N = population size\n",
        "* n = sample size\n",
        "\n"
      ],
      "metadata": {
        "id": "CGXfUz7-mBQk"
      }
    },
    {
      "cell_type": "markdown",
      "source": [
        "15. What is standard deviation, and why is it important?\n",
        "\n",
        "- **Standard deviation** is a measure of how much the values in a dataset tend to **deviate or spread out from the mean** on average. It is essentially the square root of the variance, which brings the measure back to the original units of the data, making it easier to interpret.\n",
        "\n",
        "---\n",
        "\n",
        "### Why is standard deviation important?\n",
        "\n",
        "Standard deviation is important because it gives a clear understanding of the **variability or consistency** in the data. A **small standard deviation** means the data points are close to the mean, indicating more consistency, while a **large standard deviation** means the data points are spread out over a wider range, showing greater variability. This helps in assessing the reliability of the mean as a representative value and is widely used in fields like finance, science, and quality control to understand risks, variations, or patterns within data.\n",
        "\n",
        "\n"
      ],
      "metadata": {
        "id": "-wNFISqmmNN7"
      }
    },
    {
      "cell_type": "markdown",
      "source": [
        "16. Define and explain the term range in statistics?\n",
        "\n",
        "- **Range** in statistics is the simplest measure of variability or spread in a dataset. It is defined as the **difference between the highest (maximum) and lowest (minimum) values** in the data. The range gives a quick sense of how wide or spread out the data values are.\n",
        "\n",
        "---\n",
        "\n",
        "### Explanation:\n",
        "\n",
        "To calculate the range, you subtract the smallest value from the largest value:\n",
        "\n",
        "$$\n",
        "\\text{Range} = \\text{Maximum value} - \\text{Minimum value}\n",
        "$$\n",
        "\n",
        "For example, if the highest score in a test is 95 and the lowest score is 60, the range is:\n",
        "\n",
        "$$\n",
        "95 - 60 = 35\n",
        "$$\n",
        "\n",
        "This means the test scores are spread over an interval of 35 points.\n",
        "\n"
      ],
      "metadata": {
        "id": "VIag1FQ1miFD"
      }
    },
    {
      "cell_type": "markdown",
      "source": [
        "17. What is the difference between variance and standard deviation?\n",
        "\n",
        "- The main difference between **variance** and **standard deviation** lies in their units and interpretation, though both measure the spread or variability of data around the mean.\n",
        "\n",
        "**Variance** is the average of the squared differences between each data point and the mean. Because these differences are squared, variance is expressed in **squared units** of the original data (for example, if the data is in meters, variance is in square meters), which can make it harder to interpret directly.\n",
        "\n",
        "**Standard deviation** is the **square root of the variance**, which brings the measure back to the **same units as the original data**. This makes standard deviation more intuitive and easier to understand because it represents the typical amount by which data points differ from the mean in the original scale.\n",
        "\n",
        "In summary, while variance quantifies how spread out the data is by averaging squared deviations, standard deviation provides a more interpretable measure of spread in the same units as the data. Both are essential in understanding data variability, but standard deviation is generally preferred for practical interpretation.\n"
      ],
      "metadata": {
        "id": "EehJOAZjmvxT"
      }
    },
    {
      "cell_type": "markdown",
      "source": [
        "18.  What is skewness in a dataset?\n",
        "\n",
        "- **Skewness** in a dataset is a statistical measure that describes the **asymmetry or lack of symmetry** in the distribution of data values. It tells us whether the data is **leaning more to one side** of the average rather than being evenly spread out.\n",
        "\n",
        "* If the distribution is **symmetrical**, the skewness is zero, meaning data is evenly distributed around the mean.\n",
        "* If the skewness is **positive (right-skewed)**, the tail on the right side (higher values) is longer or fatter than the left side. This means there are a few unusually large values pulling the mean to the right.\n",
        "* If the skewness is **negative (left-skewed)**, the tail on the left side (lower values) is longer or fatter than the right side, indicating some unusually small values.\n",
        "\n",
        "Understanding skewness helps in interpreting data distribution, identifying outliers, and choosing appropriate statistical methods, as many techniques assume data is roughly symmetrical.\n"
      ],
      "metadata": {
        "id": "4C883DE1m6qk"
      }
    },
    {
      "cell_type": "markdown",
      "source": [
        "19. What does it mean if a dataset is positively or negatively skewed?\n",
        "\n",
        "- If a dataset is **positively skewed**, it means the distribution has a longer or fatter tail on the **right side** (toward higher values). In this case, most data points cluster toward the lower end, but a few unusually large values pull the mean to the right, making the mean greater than the median. This often indicates that extreme high values are stretching the distribution.\n",
        "\n",
        "On the other hand, if a dataset is **negatively skewed**, the distribution has a longer or fatter tail on the **left side** (toward lower values). Here, most data points cluster toward the higher end, but some unusually low values pull the mean to the left, making the mean less than the median. This suggests the presence of extreme low values influencing the data.\n",
        "\n",
        "Understanding whether data is positively or negatively skewed helps in choosing the right statistical analysis and in interpreting the data’s behavior accurately.\n"
      ],
      "metadata": {
        "id": "ajPcB15isSuE"
      }
    },
    {
      "cell_type": "markdown",
      "source": [
        "20. Define and explain kurtosis?\n",
        "\n",
        " - Kurtosis is a statistical measure that describes the shape of a data distribution, specifically focusing on the heaviness of its tails and the sharpness of its peak compared to a normal distribution. A distribution with high kurtosis, called leptokurtic, has fatter tails and a sharper peak, indicating a higher likelihood of extreme values or outliers. Conversely, a distribution with low kurtosis, known as platykurtic, has thinner tails and a flatter peak, suggesting fewer outliers and less extreme variation. When the kurtosis is similar to that of a normal distribution, it is called mesokurtic. Understanding kurtosis is important because it helps identify how prone a dataset is to producing extreme values, which can significantly impact statistical analysis and decision-making.\n"
      ],
      "metadata": {
        "id": "_ApMwUIWscLL"
      }
    },
    {
      "cell_type": "markdown",
      "source": [
        "21. What is the purpose of covariance?\n",
        "\n",
        " - The purpose of **covariance** is to measure the **direction and strength of the relationship** between two variables. Specifically, it shows whether and how two variables change together. A **positive covariance** indicates that as one variable increases, the other tends to increase as well, while a **negative covariance** means that as one variable increases, the other tends to decrease. If the covariance is close to zero, it suggests little or no linear relationship between the variables. Covariance is fundamental in statistics and data analysis because it helps in understanding how variables are related, which is crucial for tasks like portfolio management, risk assessment, and predictive modeling.\n"
      ],
      "metadata": {
        "id": "RgAwaQK0smFj"
      }
    },
    {
      "cell_type": "markdown",
      "source": [
        "22. What does correlation measure in statistics?\n",
        "\n",
        " - In statistics, **correlation** measures the **strength and direction of the linear relationship** between two variables. It quantifies how closely the variables move together — whether increases in one variable are associated with increases or decreases in the other. The correlation coefficient ranges from **-1 to +1**:\n",
        "\n",
        "* A value of **+1** means a perfect positive linear relationship, where both variables increase together.\n",
        "* A value of **-1** indicates a perfect negative linear relationship, where one variable increases as the other decreases.\n",
        "* A value of **0** means no linear relationship between the variables.\n",
        "\n",
        "Correlation is important because it helps identify and quantify relationships, which is essential for prediction, data analysis, and understanding how variables interact.\n"
      ],
      "metadata": {
        "id": "48UnWPICst3T"
      }
    },
    {
      "cell_type": "markdown",
      "source": [
        "23. What is the difference between covariance and correlation?\n",
        "\n",
        " - The key difference between **covariance** and **correlation** lies in their scale and interpretation, even though both measure the relationship between two variables.\n",
        "\n",
        "**Covariance** indicates the **direction** of the linear relationship between variables — whether they tend to increase or decrease together. However, its value depends on the units of the variables, making it difficult to interpret the strength of the relationship or compare across different datasets.\n",
        "\n",
        "**Correlation**, on the other hand, standardizes covariance by dividing it by the product of the standard deviations of the two variables. This produces a **dimensionless value** ranging between **-1 and +1**, which clearly shows both the **strength** and **direction** of the linear relationship. A correlation of +1 or -1 means a perfect linear relationship, while 0 means no linear association.\n",
        "\n"
      ],
      "metadata": {
        "id": "OVTLkHYfs4tz"
      }
    },
    {
      "cell_type": "markdown",
      "source": [
        "24. What are some real-world applications of statistics?\n",
        "\n",
        "- Statistics plays a crucial role in many real-world fields by helping to collect, analyze, and interpret data for informed decision-making. Here are some key applications:\n",
        "\n",
        "1. **Healthcare:** Statistics is used to analyze medical data, evaluate treatment effectiveness, track disease outbreaks, and conduct clinical trials to improve patient care and public health policies.\n",
        "\n",
        "2. **Business and Economics:** Companies use statistics for market research, customer behavior analysis, quality control, sales forecasting, and financial risk assessment to optimize operations and strategies.\n",
        "\n",
        "3. **Education:** Educational institutions analyze student performance data to improve teaching methods, develop curricula, and assess the effectiveness of educational programs.\n",
        "\n",
        "4. **Government and Public Policy:** Governments rely on statistics for census data, economic planning, unemployment rates, crime statistics, and policy evaluation to make evidence-based decisions.\n",
        "\n",
        "5. **Sports:** Coaches and analysts use statistical data to evaluate player performance, devise strategies, and predict game outcomes.\n",
        "\n",
        "6. **Environmental Science:** Statistics helps in studying climate change, monitoring pollution levels, and managing natural resources.\n",
        "\n",
        "\n"
      ],
      "metadata": {
        "id": "INTqa8gZtEtD"
      }
    },
    {
      "cell_type": "markdown",
      "source": [
        "***Practical Questions***"
      ],
      "metadata": {
        "id": "_lXhOB__tNF7"
      }
    },
    {
      "cell_type": "markdown",
      "source": [
        "1. How do you calculate the mean, median, and mode of a dataset?\n",
        "\n",
        "- Example dataset:\n",
        "\n",
        "\n"
      ],
      "metadata": {
        "id": "45rbi5OjtRVr"
      }
    },
    {
      "cell_type": "code",
      "source": [
        "data = [12, 15, 12, 18, 19, 12, 17, 15, 18, 20]\n"
      ],
      "metadata": {
        "id": "mOMmv6t_vhZ8"
      },
      "execution_count": 7,
      "outputs": []
    },
    {
      "cell_type": "markdown",
      "source": [
        "Calculate Mean, Median, and Mode in Python:"
      ],
      "metadata": {
        "id": "yP1-BmQ5vkLr"
      }
    },
    {
      "cell_type": "code",
      "source": [
        "from statistics import mean, median, mode\n",
        "\n",
        "# Dataset\n",
        "data = [12, 15, 12, 18, 19, 12, 17, 15, 18, 20]\n",
        "\n",
        "# Calculate mean\n",
        "mean_value = mean(data)\n",
        "\n",
        "# Calculate median\n",
        "median_value = median(data)\n",
        "\n",
        "# Calculate mode\n",
        "mode_value = mode(data)\n",
        "\n",
        "print(f\"Mean: {mean_value}\")\n",
        "print(f\"Median: {median_value}\")\n",
        "print(f\"Mode: {mode_value}\")\n"
      ],
      "metadata": {
        "colab": {
          "base_uri": "https://localhost:8080/"
        },
        "id": "q-RXOWicvmkL",
        "outputId": "b10474c3-bc3b-4640-cdbd-4d6ca4b734c0"
      },
      "execution_count": 8,
      "outputs": [
        {
          "output_type": "stream",
          "name": "stdout",
          "text": [
            "Mean: 15.8\n",
            "Median: 16.0\n",
            "Mode: 12\n"
          ]
        }
      ]
    },
    {
      "cell_type": "markdown",
      "source": [
        "2. Write a Python program to compute the variance and standard deviation of a dataset?\n"
      ],
      "metadata": {
        "id": "8sx-xZ46tlwL"
      }
    },
    {
      "cell_type": "code",
      "source": [
        "import math\n",
        "\n",
        "def calculate_variance(data):\n",
        "    n = len(data)\n",
        "    mean = sum(data) / n\n",
        "    squared_diffs = [(x - mean) ** 2 for x in data]\n",
        "    variance = sum(squared_diffs) / n  # For population variance\n",
        "    return variance\n",
        "\n",
        "def calculate_standard_deviation(data):\n",
        "    variance = calculate_variance(data)\n",
        "    return math.sqrt(variance)\n",
        "\n",
        "# Example dataset\n",
        "data = [10, 12, 23, 23, 16, 23, 21, 16]\n",
        "\n",
        "variance = calculate_variance(data)\n",
        "std_deviation = calculate_standard_deviation(data)\n",
        "\n",
        "print(f\"Variance: {variance}\")\n",
        "print(f\"Standard Deviation: {std_deviation}\")\n"
      ],
      "metadata": {
        "colab": {
          "base_uri": "https://localhost:8080/"
        },
        "id": "8ylF6vjUtowT",
        "outputId": "33d4e574-616b-4de7-8a94-ee588c32d179"
      },
      "execution_count": 2,
      "outputs": [
        {
          "output_type": "stream",
          "name": "stdout",
          "text": [
            "Variance: 24.0\n",
            "Standard Deviation: 4.898979485566356\n"
          ]
        }
      ]
    },
    {
      "cell_type": "markdown",
      "source": [
        "3. Create a dataset and classify it into nominal, ordinal, interval, and ratio types?\n",
        "\n",
        " - ✅ Step 1: Create the Dataset\n",
        "\n",
        "\n",
        "\n",
        "\n"
      ],
      "metadata": {
        "id": "KIbWS_0-tttj"
      }
    },
    {
      "cell_type": "code",
      "source": [
        "import pandas as pd\n",
        "\n",
        "# Create a sample dataset\n",
        "data = {\n",
        "    'Employee_ID': [101, 102, 103, 104, 105],\n",
        "    'Department': ['HR', 'IT', 'Finance', 'HR', 'Marketing'],\n",
        "    'Job_Level': ['Junior', 'Mid', 'Senior', 'Junior', 'Mid'],\n",
        "    'Joining_Year': [2018, 2020, 2015, 2019, 2021],\n",
        "    'Monthly_Salary': [3500, 4500, 6000, 3700, 4200]\n",
        "}\n",
        "\n",
        "df = pd.DataFrame(data)\n",
        "print(df)\n"
      ],
      "metadata": {
        "colab": {
          "base_uri": "https://localhost:8080/"
        },
        "id": "gge-FaY3v8iL",
        "outputId": "3a3eec72-c1bf-4458-fb63-c41da07c2606"
      },
      "execution_count": 9,
      "outputs": [
        {
          "output_type": "stream",
          "name": "stdout",
          "text": [
            "   Employee_ID Department Job_Level  Joining_Year  Monthly_Salary\n",
            "0          101         HR    Junior          2018            3500\n",
            "1          102         IT       Mid          2020            4500\n",
            "2          103    Finance    Senior          2015            6000\n",
            "3          104         HR    Junior          2019            3700\n",
            "4          105  Marketing       Mid          2021            4200\n"
          ]
        }
      ]
    },
    {
      "cell_type": "markdown",
      "source": [
        "4.  Implement sampling techniques like random sampling and stratified sampling?\n",
        "\n",
        " - Setup:\n",
        "Make sure you have the required libraries installed:"
      ],
      "metadata": {
        "id": "DUyDroAyuicj"
      }
    },
    {
      "cell_type": "code",
      "source": [
        "pip install pandas scikit-learn\n"
      ],
      "metadata": {
        "colab": {
          "base_uri": "https://localhost:8080/"
        },
        "id": "qvTQ1OLIuyF7",
        "outputId": "8abe4458-228a-4c84-c3c7-ad23c0aaf4b3"
      },
      "execution_count": 3,
      "outputs": [
        {
          "output_type": "stream",
          "name": "stdout",
          "text": [
            "Requirement already satisfied: pandas in /usr/local/lib/python3.11/dist-packages (2.2.2)\n",
            "Requirement already satisfied: scikit-learn in /usr/local/lib/python3.11/dist-packages (1.6.1)\n",
            "Requirement already satisfied: numpy>=1.23.2 in /usr/local/lib/python3.11/dist-packages (from pandas) (2.0.2)\n",
            "Requirement already satisfied: python-dateutil>=2.8.2 in /usr/local/lib/python3.11/dist-packages (from pandas) (2.9.0.post0)\n",
            "Requirement already satisfied: pytz>=2020.1 in /usr/local/lib/python3.11/dist-packages (from pandas) (2025.2)\n",
            "Requirement already satisfied: tzdata>=2022.7 in /usr/local/lib/python3.11/dist-packages (from pandas) (2025.2)\n",
            "Requirement already satisfied: scipy>=1.6.0 in /usr/local/lib/python3.11/dist-packages (from scikit-learn) (1.15.3)\n",
            "Requirement already satisfied: joblib>=1.2.0 in /usr/local/lib/python3.11/dist-packages (from scikit-learn) (1.5.0)\n",
            "Requirement already satisfied: threadpoolctl>=3.1.0 in /usr/local/lib/python3.11/dist-packages (from scikit-learn) (3.6.0)\n",
            "Requirement already satisfied: six>=1.5 in /usr/local/lib/python3.11/dist-packages (from python-dateutil>=2.8.2->pandas) (1.17.0)\n"
          ]
        }
      ]
    },
    {
      "cell_type": "markdown",
      "source": [
        "Sample dataset:"
      ],
      "metadata": {
        "id": "Y7lg0URdu2HU"
      }
    },
    {
      "cell_type": "code",
      "source": [
        "import pandas as pd\n",
        "from sklearn.model_selection import train_test_split\n",
        "\n",
        "# Example dataset\n",
        "data = {\n",
        "    'Name': ['Alice', 'Bob', 'Charlie', 'David', 'Eva', 'Frank', 'Grace', 'Helen', 'Ian', 'Jane'],\n",
        "    'Gender': ['F', 'M', 'M', 'M', 'F', 'M', 'F', 'F', 'M', 'F'],\n",
        "    'Age': [24, 27, 22, 32, 29, 24, 28, 23, 31, 25],\n",
        "    'Department': ['HR', 'IT', 'HR', 'IT', 'Finance', 'Finance', 'HR', 'Finance', 'IT', 'HR']\n",
        "}\n",
        "\n",
        "df = pd.DataFrame(data)\n"
      ],
      "metadata": {
        "id": "ZoitcgkBu4bD"
      },
      "execution_count": 4,
      "outputs": []
    },
    {
      "cell_type": "markdown",
      "source": [
        "1. Random Sampling\n",
        "Randomly select a subset of rows without considering any groupings:"
      ],
      "metadata": {
        "id": "vy2B5ANIu7fk"
      }
    },
    {
      "cell_type": "code",
      "source": [
        "# Random sample of 4 records (without replacement)\n",
        "random_sample = df.sample(n=4, random_state=42)\n",
        "print(\"Random Sampling:\\n\", random_sample)\n"
      ],
      "metadata": {
        "colab": {
          "base_uri": "https://localhost:8080/"
        },
        "id": "1ykf3c5Pu9-c",
        "outputId": "293e15e0-0d96-4f3f-907f-e3140918d579"
      },
      "execution_count": 5,
      "outputs": [
        {
          "output_type": "stream",
          "name": "stdout",
          "text": [
            "Random Sampling:\n",
            "     Name Gender  Age Department\n",
            "8    Ian      M   31         IT\n",
            "1    Bob      M   27         IT\n",
            "5  Frank      M   24    Finance\n",
            "0  Alice      F   24         HR\n"
          ]
        }
      ]
    },
    {
      "cell_type": "markdown",
      "source": [
        "2. Stratified Sampling\n",
        "Ensure the sample maintains the proportion of categories (e.g., Department):"
      ],
      "metadata": {
        "id": "xXH1B4OIvBJT"
      }
    },
    {
      "cell_type": "code",
      "source": [
        "# Stratified sampling by 'Department' (select 50% from each department)\n",
        "stratified_sample, _ = train_test_split(df, test_size=0.5, stratify=df['Department'], random_state=42)\n",
        "print(\"\\nStratified Sampling:\\n\", stratified_sample)\n"
      ],
      "metadata": {
        "colab": {
          "base_uri": "https://localhost:8080/"
        },
        "id": "vdSaPNHTvELr",
        "outputId": "8c2d1f45-da91-4ddc-a0ac-365d49300f69"
      },
      "execution_count": 6,
      "outputs": [
        {
          "output_type": "stream",
          "name": "stdout",
          "text": [
            "\n",
            "Stratified Sampling:\n",
            "       Name Gender  Age Department\n",
            "2  Charlie      M   22         HR\n",
            "5    Frank      M   24    Finance\n",
            "1      Bob      M   27         IT\n",
            "3    David      M   32         IT\n",
            "9     Jane      F   25         HR\n"
          ]
        }
      ]
    },
    {
      "cell_type": "markdown",
      "source": [
        "5. Write a Python function to calculate the range of a dataset?\n"
      ],
      "metadata": {
        "id": "4jPGfkauwXgt"
      }
    },
    {
      "cell_type": "code",
      "source": [
        "def calculate_range(data):\n",
        "    if not data:\n",
        "        return None  # Return None if the list is empty\n",
        "    return max(data) - min(data)\n",
        "\n",
        "# Example dataset\n",
        "dataset = [12, 25, 7, 30, 18, 22]\n",
        "\n",
        "# Calculate and print the range\n",
        "data_range = calculate_range(dataset)\n",
        "print(f\"Range of the dataset: {data_range}\")\n"
      ],
      "metadata": {
        "colab": {
          "base_uri": "https://localhost:8080/"
        },
        "id": "FRElTt1OwfI0",
        "outputId": "6c539958-a802-4187-dd88-5d426b3ff99d"
      },
      "execution_count": 10,
      "outputs": [
        {
          "output_type": "stream",
          "name": "stdout",
          "text": [
            "Range of the dataset: 23\n"
          ]
        }
      ]
    },
    {
      "cell_type": "markdown",
      "source": [
        "6. Create a dataset and plot its histogram to visualize skewness?\n"
      ],
      "metadata": {
        "id": "6F6NHt0bwkFk"
      }
    },
    {
      "cell_type": "code",
      "source": [
        "import numpy as np\n",
        "import pandas as pd\n",
        "import matplotlib.pyplot as plt\n",
        "import seaborn as sns\n",
        "from scipy.stats import skew\n",
        "\n",
        "# Step 1: Create a skewed dataset (right-skewed example)\n",
        "np.random.seed(42)\n",
        "data = np.random.exponential(scale=2.0, size=1000)  # Exponential distribution is right-skewed\n",
        "\n",
        "# Convert to DataFrame for flexibility\n",
        "df = pd.DataFrame(data, columns=['Value'])\n",
        "\n",
        "# Step 2: Plot histogram\n",
        "plt.figure(figsize=(8, 5))\n",
        "sns.histplot(df['Value'], bins=30, kde=True, color='skyblue')\n",
        "plt.title('Histogram of Dataset (Right-Skewed)')\n",
        "plt.xlabel('Value')\n",
        "plt.ylabel('Frequency')\n",
        "plt.grid(True)\n",
        "plt.show()\n",
        "\n",
        "# Step 3: Calculate and display skewness value\n",
        "skew_value = skew(df['Value'])\n",
        "print(f\"Skewness: {skew_value:.2f}\")\n"
      ],
      "metadata": {
        "colab": {
          "base_uri": "https://localhost:8080/",
          "height": 504
        },
        "id": "Jaclc7vBw1zM",
        "outputId": "788a38ba-f78c-4e4d-a5be-ec0f7f44a8d8"
      },
      "execution_count": 11,
      "outputs": [
        {
          "output_type": "display_data",
          "data": {
            "text/plain": [
              "<Figure size 800x500 with 1 Axes>"
            ],
            "image/png": "[encoded data removed]"
          },
          "metadata": {}
        },
        {
          "output_type": "stream",
          "name": "stdout",
          "text": [
            "Skewness: 1.87\n"
          ]
        }
      ]
    },
    {
      "cell_type": "markdown",
      "source": [
        "7. Calculate skewness and kurtosis of a dataset using Python libraries?"
      ],
      "metadata": {
        "id": "X7ZDgE5Gw5SV"
      }
    },
    {
      "cell_type": "code",
      "source": [
        "import numpy as np\n",
        "import pandas as pd\n",
        "from scipy.stats import skew, kurtosis\n",
        "\n",
        "# Step 1: Create a dataset (you can use your own too)\n",
        "data = np.random.normal(loc=50, scale=10, size=1000)  # Normal distribution\n",
        "\n",
        "# Convert to DataFrame (optional)\n",
        "df = pd.DataFrame(data, columns=['Value'])\n",
        "\n",
        "# Step 2: Calculate skewness\n",
        "skew_value = skew(df['Value'])\n",
        "\n",
        "# Step 3: Calculate kurtosis\n",
        "kurtosis_value = kurtosis(df['Value'])  # By default, returns **excess kurtosis**\n",
        "\n",
        "# Step 4: Print results\n",
        "print(f\"Skewness: {skew_value:.2f}\")\n",
        "print(f\"Kurtosis: {kurtosis_value:.2f} (Excess Kurtosis)\")\n",
        "\n",
        "# Optional: If you want to get **Fisher's kurtosis** (normal = 3)\n",
        "fisher_kurtosis = kurtosis(df['Value'], fisher=False)\n",
        "print(f\"Kurtosis (Fisher's definition): {fisher_kurtosis:.2f}\")\n"
      ],
      "metadata": {
        "colab": {
          "base_uri": "https://localhost:8080/"
        },
        "id": "m6F9k-hnw8ON",
        "outputId": "0c689440-db03-43e4-e408-9f492040e0cf"
      },
      "execution_count": 12,
      "outputs": [
        {
          "output_type": "stream",
          "name": "stdout",
          "text": [
            "Skewness: -0.04\n",
            "Kurtosis: -0.03 (Excess Kurtosis)\n",
            "Kurtosis (Fisher's definition): 2.97\n"
          ]
        }
      ]
    },
    {
      "cell_type": "markdown",
      "source": [
        "8. Generate a dataset and demonstrate positive and negative skewness?"
      ],
      "metadata": {
        "id": "ndKudcqSxHNE"
      }
    },
    {
      "cell_type": "code",
      "source": [
        "import numpy as np\n",
        "import pandas as pd\n",
        "import matplotlib.pyplot as plt\n",
        "import seaborn as sns\n",
        "from scipy.stats import skew\n",
        "\n",
        "# Set seed for reproducibility\n",
        "np.random.seed(42)\n",
        "\n",
        "# 1. Generate a positively skewed dataset (e.g., Exponential distribution)\n",
        "positive_skew_data = np.random.exponential(scale=2.0, size=1000)\n",
        "\n",
        "# 2. Generate a negatively skewed dataset (reverse of exponential)\n",
        "negative_skew_data = -np.random.exponential(scale=2.0, size=1000)\n",
        "\n",
        "# 3. Create a figure with subplots\n",
        "fig, axes = plt.subplots(1, 2, figsize=(14, 5))\n",
        "\n",
        "# Plot positive skew\n",
        "sns.histplot(positive_skew_data, bins=30, kde=True, ax=axes[0], color='skyblue')\n",
        "axes[0].set_title(f'Positive Skew\\nSkewness = {skew(positive_skew_data):.2f}')\n",
        "axes[0].set_xlabel('Value')\n",
        "axes[0].set_ylabel('Frequency')\n",
        "\n",
        "# Plot negative skew\n",
        "sns.histplot(negative_skew_data, bins=30, kde=True, ax=axes[1], color='salmon')\n",
        "axes[1].set_title(f'Negative Skew\\nSkewness = {skew(negative_skew_data):.2f}')\n",
        "axes[1].set_xlabel('Value')\n",
        "axes[1].set_ylabel('Frequency')\n",
        "\n",
        "plt.tight_layout()\n",
        "plt.show()\n"
      ],
      "metadata": {
        "colab": {
          "base_uri": "https://localhost:8080/",
          "height": 424
        },
        "id": "8-uuipBQxKLk",
        "outputId": "2ef16733-7cbc-48a0-f405-2289fa2da4b5"
      },
      "execution_count": 13,
      "outputs": [
        {
          "output_type": "display_data",
          "data": {
            "text/plain": [
              "<Figure size 1400x500 with 2 Axes>"
            ],
            "image/png": "[encoded data removed]"
          },
          "metadata": {}
        }
      ]
    },
    {
      "cell_type": "markdown",
      "source": [
        "9. Write a Python script to calculate covariance between two datasets?"
      ],
      "metadata": {
        "id": "c-T50p1RxTac"
      }
    },
    {
      "cell_type": "code",
      "source": [
        "import numpy as np\n",
        "\n",
        "# Step 1: Create two example datasets\n",
        "x = [10, 20, 30, 40, 50]\n",
        "y = [12, 24, 33, 45, 54]\n",
        "\n",
        "# Step 2: Calculate covariance manually\n",
        "def calculate_covariance(x, y):\n",
        "    n = len(x)\n",
        "    mean_x = sum(x) / n\n",
        "    mean_y = sum(y) / n\n",
        "\n",
        "    # Covariance formula\n",
        "    covariance = sum((x[i] - mean_x) * (y[i] - mean_y) for i in range(n)) / n  # For population\n",
        "    return covariance\n",
        "\n",
        "# Step 3: Print result\n",
        "cov = calculate_covariance(x, y)\n",
        "print(f\"Covariance: {cov:.2f}\")\n"
      ],
      "metadata": {
        "colab": {
          "base_uri": "https://localhost:8080/"
        },
        "id": "GKeJUREsxW9z",
        "outputId": "698b8f71-1232-477c-95a2-05c3e4daba2f"
      },
      "execution_count": 14,
      "outputs": [
        {
          "output_type": "stream",
          "name": "stdout",
          "text": [
            "Covariance: 210.00\n"
          ]
        }
      ]
    },
    {
      "cell_type": "markdown",
      "source": [
        "10.  Write a Python script to calculate the correlation coefficient between two datasets?\n"
      ],
      "metadata": {
        "id": "IZ7tsUNuxf5c"
      }
    },
    {
      "cell_type": "code",
      "source": [
        "import numpy as np\n",
        "\n",
        "# Step 1: Create two example datasets\n",
        "x = [10, 20, 30, 40, 50]\n",
        "y = [12, 24, 33, 45, 54]\n",
        "\n",
        "# Step 2: Calculate correlation manually (Pearson's r)\n",
        "def calculate_correlation(x, y):\n",
        "    n = len(x)\n",
        "    mean_x = sum(x) / n\n",
        "    mean_y = sum(y) / n\n",
        "\n",
        "    numerator = sum((x[i] - mean_x) * (y[i] - mean_y) for i in range(n))\n",
        "    denominator = (sum((x[i] - mean_x) ** 2 for i in range(n)) * sum((y[i] - mean_y) ** 2 for i in range(n))) ** 0.5\n",
        "\n",
        "    correlation = numerator / denominator\n",
        "    return correlation\n",
        "\n",
        "# Step 3: Print manual result\n",
        "corr_manual = calculate_correlation(x, y)\n",
        "print(f\"Correlation Coefficient (manual): {corr_manual:.2f}\")\n",
        "\n",
        "# Step 4: Using NumPy\n",
        "corr_numpy = np.corrcoef(x, y)[0, 1]\n",
        "print(f\"Correlation Coefficient (NumPy): {corr_numpy:.2f}\")\n"
      ],
      "metadata": {
        "colab": {
          "base_uri": "https://localhost:8080/"
        },
        "id": "T7bHv8Nkxi9m",
        "outputId": "00bc6023-819d-4bce-c550-7c459e535396"
      },
      "execution_count": 15,
      "outputs": [
        {
          "output_type": "stream",
          "name": "stdout",
          "text": [
            "Correlation Coefficient (manual): 1.00\n",
            "Correlation Coefficient (NumPy): 1.00\n"
          ]
        }
      ]
    },
    {
      "cell_type": "markdown",
      "source": [
        "11. Create a scatter plot to visualize the relationship between two variables?"
      ],
      "metadata": {
        "id": "Ec7cHnaLxtOO"
      }
    },
    {
      "cell_type": "code",
      "source": [
        "import matplotlib.pyplot as plt\n",
        "import seaborn as sns\n",
        "\n",
        "# Step 1: Create two variables (example datasets)\n",
        "x = [10, 20, 30, 40, 50, 60]\n",
        "y = [15, 25, 35, 42, 53, 65]\n",
        "\n",
        "# Step 2: Create a scatter plot\n",
        "plt.figure(figsize=(8, 5))\n",
        "sns.scatterplot(x=x, y=y, color='blue', marker='o')\n",
        "\n",
        "# Step 3: Add labels and title\n",
        "plt.title(\"Scatter Plot: Relationship Between X and Y\")\n",
        "plt.xlabel(\"X Variable\")\n",
        "plt.ylabel(\"Y Variable\")\n",
        "plt.grid(True)\n",
        "plt.tight_layout()\n",
        "\n",
        "# Step 4: Show the plot\n",
        "plt.show()\n"
      ],
      "metadata": {
        "colab": {
          "base_uri": "https://localhost:8080/",
          "height": 507
        },
        "id": "NKK508rAxwgm",
        "outputId": "14be7a41-aabc-414d-b01c-8d1b590b38b2"
      },
      "execution_count": 16,
      "outputs": [
        {
          "output_type": "display_data",
          "data": {
            "text/plain": [
              "<Figure size 800x500 with 1 Axes>"
            ],
            "image/png": "[encoded data removed]"
          },
          "metadata": {}
        }
      ]
    },
    {
      "cell_type": "markdown",
      "source": [
        "12. Implement and compare simple random sampling and systematic sampling?"
      ],
      "metadata": {
        "id": "Zsy21Kxcx2zc"
      }
    },
    {
      "cell_type": "code",
      "source": [
        "import pandas as pd\n",
        "import numpy as np\n",
        "import random\n",
        "\n",
        "# Step 1: Create a sample dataset\n",
        "data = pd.DataFrame({\n",
        "    'ID': range(1, 101),  # 100 individuals\n",
        "    'Score': np.random.randint(50, 100, size=100)\n",
        "})\n",
        "\n",
        "# --- Simple Random Sampling ---\n",
        "def simple_random_sampling(df, sample_size):\n",
        "    return df.sample(n=sample_size, random_state=42)\n",
        "\n",
        "# --- Systematic Sampling ---\n",
        "def systematic_sampling(df, sample_size):\n",
        "    step = len(df) // sample_size\n",
        "    start = random.randint(0, step - 1)  # random start point\n",
        "    indices = list(range(start, len(df), step))\n",
        "    return df.iloc[indices[:sample_size]]\n",
        "\n",
        "# Step 2: Take samples\n",
        "sample_size = 10\n",
        "\n",
        "random_sample = simple_random_sampling(data, sample_size)\n",
        "systematic_sample = systematic_sampling(data, sample_size)\n",
        "\n",
        "# Step 3: Compare results\n",
        "print(\"🔹 Simple Random Sampling:\")\n",
        "print(random_sample)\n",
        "\n",
        "print(\"\\n🔹 Systematic Sampling:\")\n",
        "print(systematic_sample)\n"
      ],
      "metadata": {
        "colab": {
          "base_uri": "https://localhost:8080/"
        },
        "id": "M5WKqGWHx6Am",
        "outputId": "b645d83b-e6d3-4ecf-c29a-33cea118643b"
      },
      "execution_count": 17,
      "outputs": [
        {
          "output_type": "stream",
          "name": "stdout",
          "text": [
            "🔹 Simple Random Sampling:\n",
            "    ID  Score\n",
            "83  84     51\n",
            "53  54     74\n",
            "70  71     88\n",
            "45  46     54\n",
            "44  45     67\n",
            "39  40     75\n",
            "22  23     53\n",
            "80  81     59\n",
            "10  11     74\n",
            "0    1     77\n",
            "\n",
            "🔹 Systematic Sampling:\n",
            "    ID  Score\n",
            "1    2     56\n",
            "11  12     62\n",
            "21  22     70\n",
            "31  32     60\n",
            "41  42     63\n",
            "51  52     98\n",
            "61  62     56\n",
            "71  72     71\n",
            "81  82     70\n",
            "91  92     88\n"
          ]
        }
      ]
    },
    {
      "cell_type": "markdown",
      "source": [
        "13. Calculate the mean, median, and mode of grouped data?"
      ],
      "metadata": {
        "id": "X_Dt0uMwyBwe"
      }
    },
    {
      "cell_type": "code",
      "source": [
        "import numpy as np\n",
        "import pandas as pd\n",
        "\n",
        "# Step 1: Define the grouped data\n",
        "class_intervals = [(10, 20), (20, 30), (30, 40), (40, 50), (50, 60)]\n",
        "frequencies = [5, 8, 12, 7, 3]\n",
        "\n",
        "# Step 2: Calculate midpoints of each class\n",
        "midpoints = [(start + end) / 2 for start, end in class_intervals]\n",
        "\n",
        "# Step 3: Calculate Mean\n",
        "total_freq = sum(frequencies)\n",
        "mean = sum(f * x for f, x in zip(frequencies, midpoints)) / total_freq\n",
        "\n",
        "# Step 4: Calculate Median\n",
        "# Cumulative frequencies\n",
        "cum_freq = np.cumsum(frequencies)\n",
        "N = total_freq\n",
        "median_class_index = np.where(cum_freq >= N / 2)[0][0]\n",
        "\n",
        "L = class_intervals[median_class_index][0]  # Lower boundary of median class\n",
        "F = cum_freq[median_class_index - 1] if median_class_index > 0 else 0  # CF before median class\n",
        "f_m = frequencies[median_class_index]  # Frequency of median class\n",
        "h = class_intervals[median_class_index][1] - class_intervals[median_class_index][0]  # Class width\n",
        "\n",
        "median = L + ((N / 2 - F) / f_m) * h\n",
        "\n",
        "# Step 5: Calculate Mode\n",
        "modal_class_index = np.argmax(frequencies)\n",
        "L_mode = class_intervals[modal_class_index][0]\n",
        "f1 = frequencies[modal_class_index]\n",
        "f0 = frequencies[modal_class_index - 1] if modal_class_index > 0 else 0\n",
        "f2 = frequencies[modal_class_index + 1] if modal_class_index < len(frequencies) - 1 else 0\n",
        "\n",
        "mode = L_mode + ((f1 - f0) / ((2 * f1) - f0 - f2)) * h\n",
        "\n",
        "# Step 6: Print results\n",
        "print(f\"Mean: {mean:.2f}\")\n",
        "print(f\"Median: {median:.2f}\")\n",
        "print(f\"Mode: {mode:.2f}\")\n"
      ],
      "metadata": {
        "colab": {
          "base_uri": "https://localhost:8080/"
        },
        "id": "MidooyfjyEdc",
        "outputId": "385f5716-b174-4776-c991-06bd2fb3e1e3"
      },
      "execution_count": 18,
      "outputs": [
        {
          "output_type": "stream",
          "name": "stdout",
          "text": [
            "Mean: 33.57\n",
            "Median: 33.75\n",
            "Mode: 34.44\n"
          ]
        }
      ]
    },
    {
      "cell_type": "markdown",
      "source": [
        "14. Simulate data using Python and calculate its central tendency and dispersion?"
      ],
      "metadata": {
        "id": "JGB5h4HCyOmT"
      }
    },
    {
      "cell_type": "code",
      "source": [
        "import numpy as np\n",
        "import pandas as pd\n",
        "from scipy import stats\n",
        "\n",
        "# Step 1: Simulate dataset - e.g., 1000 random integers between 10 and 100\n",
        "np.random.seed(42)  # for reproducibility\n",
        "data = np.random.randint(10, 101, size=1000)\n",
        "\n",
        "# Step 2: Convert to pandas Series for convenience\n",
        "data_series = pd.Series(data)\n",
        "\n",
        "# Step 3: Calculate central tendency\n",
        "mean = data_series.mean()\n",
        "median = data_series.median()\n",
        "mode = data_series.mode().iloc[0]  # if multiple modes, take the first\n",
        "\n",
        "# Step 4: Calculate dispersion\n",
        "variance = data_series.var(ddof=0)  # population variance\n",
        "std_dev = data_series.std(ddof=0)   # population std deviation\n",
        "data_range = data_series.max() - data_series.min()\n",
        "\n",
        "# Step 5: Display results\n",
        "print(f\"Mean: {mean:.2f}\")\n",
        "print(f\"Median: {median}\")\n",
        "print(f\"Mode: {mode}\")\n",
        "print(f\"Variance: {variance:.2f}\")\n",
        "print(f\"Standard Deviation: {std_dev:.2f}\")\n",
        "print(f\"Range: {data_range}\")\n"
      ],
      "metadata": {
        "colab": {
          "base_uri": "https://localhost:8080/"
        },
        "id": "scpVDB0QySTt",
        "outputId": "14d57636-37f7-46b3-87be-f23ff3ae79ed"
      },
      "execution_count": 19,
      "outputs": [
        {
          "output_type": "stream",
          "name": "stdout",
          "text": [
            "Mean: 53.44\n",
            "Median: 54.0\n",
            "Mode: 71\n",
            "Variance: 703.01\n",
            "Standard Deviation: 26.51\n",
            "Range: 90\n"
          ]
        }
      ]
    },
    {
      "cell_type": "markdown",
      "source": [
        "15. Use NumPy or pandas to summarize a dataset’s descriptive statistics?"
      ],
      "metadata": {
        "id": "Kw6-rr5vyZkU"
      }
    },
    {
      "cell_type": "code",
      "source": [
        "import numpy as np\n",
        "import pandas as pd\n",
        "\n",
        "# Step 1: Create a sample dataset (e.g., 100 random numbers)\n",
        "np.random.seed(0)\n",
        "data = np.random.normal(loc=50, scale=15, size=100)  # Normal distribution\n",
        "\n",
        "# Step 2: Convert to pandas Series or DataFrame\n",
        "data_series = pd.Series(data)\n",
        "\n",
        "# Step 3: Using pandas describe() for summary statistics\n",
        "summary = data_series.describe()\n",
        "print(\"Pandas describe():\")\n",
        "print(summary)\n",
        "\n",
        "# Step 4: Calculate some specific stats using NumPy\n",
        "mean = np.mean(data)\n",
        "median = np.median(data)\n",
        "std_dev = np.std(data)\n",
        "variance = np.var(data)\n",
        "data_range = np.ptp(data)  # Range: max - min\n",
        "\n",
        "print(\"\\nNumPy calculations:\")\n",
        "print(f\"Mean: {mean:.2f}\")\n",
        "print(f\"Median: {median:.2f}\")\n",
        "print(f\"Standard Deviation: {std_dev:.2f}\")\n",
        "print(f\"Variance: {variance:.2f}\")\n",
        "print(f\"Range: {data_range:.2f}\")\n"
      ],
      "metadata": {
        "colab": {
          "base_uri": "https://localhost:8080/"
        },
        "id": "siDMBcrtybc2",
        "outputId": "46611d29-3f62-4f5e-ca1e-5b6f1670ff63"
      },
      "execution_count": 20,
      "outputs": [
        {
          "output_type": "stream",
          "name": "stdout",
          "text": [
            "Pandas describe():\n",
            "count    100.000000\n",
            "mean      50.897120\n",
            "std       15.194397\n",
            "min       11.705153\n",
            "25%       40.342150\n",
            "50%       51.411442\n",
            "75%       61.056160\n",
            "max       84.046319\n",
            "dtype: float64\n",
            "\n",
            "NumPy calculations:\n",
            "Mean: 50.90\n",
            "Median: 51.41\n",
            "Standard Deviation: 15.12\n",
            "Variance: 228.56\n",
            "Range: 72.34\n"
          ]
        }
      ]
    },
    {
      "cell_type": "markdown",
      "source": [
        "16.  Plot a boxplot to understand the spread and identify outliers?"
      ],
      "metadata": {
        "id": "CqweJJYlyjaM"
      }
    },
    {
      "cell_type": "code",
      "source": [
        "import numpy as np\n",
        "import matplotlib.pyplot as plt\n",
        "import seaborn as sns\n",
        "\n",
        "# Step 1: Generate sample data (normal distribution with some outliers)\n",
        "np.random.seed(0)\n",
        "data = np.random.normal(loc=50, scale=10, size=100)\n",
        "outliers = [100, 110, 120]\n",
        "data_with_outliers = np.concatenate([data, outliers])\n",
        "\n",
        "# Step 2: Create a boxplot\n",
        "plt.figure(figsize=(8, 5))\n",
        "sns.boxplot(data=data_with_outliers, color='lightblue')\n",
        "\n",
        "# Step 3: Add title and labels\n",
        "plt.title('Boxplot of Dataset with Outliers')\n",
        "plt.ylabel('Value')\n",
        "\n",
        "# Step 4: Show plot\n",
        "plt.show()\n"
      ],
      "metadata": {
        "colab": {
          "base_uri": "https://localhost:8080/",
          "height": 451
        },
        "id": "efCjdWFPyoq_",
        "outputId": "3ad8c4c7-3900-425e-86d8-18dbbbd97c4e"
      },
      "execution_count": 21,
      "outputs": [
        {
          "output_type": "display_data",
          "data": {
            "text/plain": [
              "<Figure size 800x500 with 1 Axes>"
            ],
            "image/png": "[encoded data removed]"
          },
          "metadata": {}
        }
      ]
    },
    {
      "cell_type": "markdown",
      "source": [
        "17. Calculate the interquartile range (IQR) of a dataset?\n"
      ],
      "metadata": {
        "id": "ZVOiCZECyu3V"
      }
    },
    {
      "cell_type": "code",
      "source": [
        "import numpy as np\n",
        "\n",
        "# Example dataset\n",
        "data = [12, 7, 3, 18, 25, 40, 22, 10, 15, 28]\n",
        "\n",
        "# Calculate Q1 and Q3\n",
        "Q1 = np.percentile(data, 25)\n",
        "Q3 = np.percentile(data, 75)\n",
        "\n",
        "# Calculate IQR\n",
        "IQR = Q3 - Q1\n",
        "\n",
        "print(f\"Q1 (25th percentile): {Q1}\")\n",
        "print(f\"Q3 (75th percentile): {Q3}\")\n",
        "print(f\"Interquartile Range (IQR): {IQR}\")\n"
      ],
      "metadata": {
        "colab": {
          "base_uri": "https://localhost:8080/"
        },
        "id": "5_my9awQyynE",
        "outputId": "76212e7d-481c-43b8-8cc5-6c7306dd8e34"
      },
      "execution_count": 22,
      "outputs": [
        {
          "output_type": "stream",
          "name": "stdout",
          "text": [
            "Q1 (25th percentile): 10.5\n",
            "Q3 (75th percentile): 24.25\n",
            "Interquartile Range (IQR): 13.75\n"
          ]
        }
      ]
    },
    {
      "cell_type": "markdown",
      "source": [
        "18. Implement Z-score normalization and explain its significance?\n",
        "\n",
        "- What is Z-score normalization?\n",
        "Z-score normalization (also called standardization) rescales data so that it has a mean of 0 and a standard deviation of 1. For each data point\n",
        "𝑥\n",
        "x, the Z-score is calculated as:\n",
        "\n",
        "𝑍\n",
        "=\n",
        "𝑥\n",
        "−\n",
        "𝜇\n",
        "𝜎\n",
        "Z=\n",
        "σ\n",
        "x−μ\n",
        "​\n",
        "\n",
        "Where:\n",
        "\n",
        "𝜇\n",
        "μ = mean of the dataset\n",
        "\n",
        "𝜎\n",
        "σ = standard deviation of the dataset\n",
        "\n",
        "***Significance of Z-score normalization***:\n",
        "\n",
        "It removes units, allowing comparison between different datasets or features on the same scale.\n",
        "\n",
        "Makes data suitable for many machine learning algorithms sensitive to scale (e.g., k-NN, SVM, PCA).\n",
        "\n",
        "Helps detect outliers (Z-scores far from zero).\n",
        "\n",
        "Converts data to a standard normal distribution.\n",
        "\n",
        "Practical Python Implementation:"
      ],
      "metadata": {
        "id": "kUw3dfx6y8C0"
      }
    },
    {
      "cell_type": "code",
      "source": [
        "import numpy as np\n",
        "\n",
        "# Sample data\n",
        "data = np.array([10, 20, 30, 40, 50])\n",
        "\n",
        "# Calculate mean and standard deviation\n",
        "mean = np.mean(data)\n",
        "std_dev = np.std(data)\n",
        "\n",
        "# Apply Z-score normalization\n",
        "z_scores = (data - mean) / std_dev\n",
        "\n",
        "print(\"Original data:\", data)\n",
        "print(\"Mean:\", mean)\n",
        "print(\"Standard Deviation:\", std_dev)\n",
        "print(\"Z-scores:\", z_scores)\n"
      ],
      "metadata": {
        "colab": {
          "base_uri": "https://localhost:8080/"
        },
        "id": "qb24IeWKzS8Y",
        "outputId": "cf20c575-d1b4-434d-8d63-d64174af2f44"
      },
      "execution_count": 23,
      "outputs": [
        {
          "output_type": "stream",
          "name": "stdout",
          "text": [
            "Original data: [10 20 30 40 50]\n",
            "Mean: 30.0\n",
            "Standard Deviation: 14.142135623730951\n",
            "Z-scores: [-1.41421356 -0.70710678  0.          0.70710678  1.41421356]\n"
          ]
        }
      ]
    },
    {
      "cell_type": "markdown",
      "source": [
        "19. Compare two datasets using their standard deviations?"
      ],
      "metadata": {
        "id": "BsR_igVdzV8E"
      }
    },
    {
      "cell_type": "code",
      "source": [
        "import numpy as np\n",
        "\n",
        "# Sample datasets\n",
        "data1 = [10, 12, 23, 23, 16, 23, 21, 16]\n",
        "data2 = [15, 17, 19, 21, 23, 25, 27, 29]\n",
        "\n",
        "# Calculate standard deviations\n",
        "std_dev1 = np.std(data1)\n",
        "std_dev2 = np.std(data2)\n",
        "\n",
        "print(f\"Standard Deviation of dataset 1: {std_dev1:.2f}\")\n",
        "print(f\"Standard Deviation of dataset 2: {std_dev2:.2f}\")\n",
        "\n",
        "# Comparison\n",
        "if std_dev1 > std_dev2:\n",
        "    print(\"Dataset 1 is more spread out (more variability).\")\n",
        "elif std_dev1 < std_dev2:\n",
        "    print(\"Dataset 2 is more spread out (more variability).\")\n",
        "else:\n",
        "    print(\"Both datasets have the same variability.\")\n"
      ],
      "metadata": {
        "colab": {
          "base_uri": "https://localhost:8080/"
        },
        "id": "vxdzLy8fzZc9",
        "outputId": "8f054420-ce17-4a7c-a3bd-a8deb8d3846e"
      },
      "execution_count": 24,
      "outputs": [
        {
          "output_type": "stream",
          "name": "stdout",
          "text": [
            "Standard Deviation of dataset 1: 4.90\n",
            "Standard Deviation of dataset 2: 4.58\n",
            "Dataset 1 is more spread out (more variability).\n"
          ]
        }
      ]
    },
    {
      "cell_type": "markdown",
      "source": [
        "20. Write a Python program to visualize covariance using a heatmap?"
      ],
      "metadata": {
        "id": "MVD7RcwezvNl"
      }
    },
    {
      "cell_type": "code",
      "source": [
        "import numpy as np\n",
        "import pandas as pd\n",
        "import seaborn as sns\n",
        "import matplotlib.pyplot as plt\n",
        "\n",
        "# Step 1: Create a sample dataset with multiple variables\n",
        "np.random.seed(42)\n",
        "data = {\n",
        "    'X': np.random.normal(0, 1, 100),\n",
        "    'Y': np.random.normal(5, 2, 100),\n",
        "    'Z': np.random.normal(-2, 5, 100)\n",
        "}\n",
        "\n",
        "df = pd.DataFrame(data)\n",
        "\n",
        "# Step 2: Calculate the covariance matrix\n",
        "cov_matrix = df.cov()\n",
        "\n",
        "# Step 3: Plot the covariance matrix as a heatmap\n",
        "plt.figure(figsize=(6, 4))\n",
        "sns.heatmap(cov_matrix, annot=True, cmap='coolwarm', center=0)\n",
        "\n",
        "plt.title('Covariance Matrix Heatmap')\n",
        "plt.show()\n"
      ],
      "metadata": {
        "colab": {
          "base_uri": "https://localhost:8080/",
          "height": 391
        },
        "id": "9pe2Z5jJzydv",
        "outputId": "b93ae2f0-c8e5-4305-c7c7-7a7625927476"
      },
      "execution_count": 25,
      "outputs": [
        {
          "output_type": "display_data",
          "data": {
            "text/plain": [
              "<Figure size 600x400 with 2 Axes>"
            ],
            "image/png": "[encoded data removed]"
          },
          "metadata": {}
        }
      ]
    },
    {
      "cell_type": "markdown",
      "source": [
        "21. Use seaborn to create a correlation matrix for a dataset?"
      ],
      "metadata": {
        "id": "nK5e3FIwz6WV"
      }
    },
    {
      "cell_type": "code",
      "source": [
        "import seaborn as sns\n",
        "import matplotlib.pyplot as plt\n",
        "import numpy as np\n",
        "\n",
        "# Load your dataset (replace with your own data)\n",
        "df = sns.load_dataset('tips')\n",
        "\n",
        "# Select only numeric columns\n",
        "numeric_df = df.select_dtypes(include=[np.number])\n",
        "\n",
        "# Compute correlation matrix on numeric data only\n",
        "corr = numeric_df.corr()\n",
        "\n",
        "# Create mask for upper triangle\n",
        "mask = np.triu(np.ones_like(corr, dtype=bool))\n",
        "\n",
        "# Plot heatmap\n",
        "plt.figure(figsize=(10, 8))\n",
        "sns.heatmap(corr, mask=mask, annot=True, fmt=\".2f\", cmap='viridis', linewidths=0.5)\n",
        "plt.title('Correlation Matrix Heatmap')\n",
        "plt.show()\n"
      ],
      "metadata": {
        "colab": {
          "base_uri": "https://localhost:8080/",
          "height": 699
        },
        "id": "WS1tGFau1Y5N",
        "outputId": "827a1eda-7cac-40e9-aeaa-cd99907b34d4"
      },
      "execution_count": 33,
      "outputs": [
        {
          "output_type": "display_data",
          "data": {
            "text/plain": [
              "<Figure size 1000x800 with 2 Axes>"
            ],
            "image/png": "[encoded data removed]"
          },
          "metadata": {}
        }
      ]
    },
    {
      "cell_type": "markdown",
      "source": [
        "22. Generate a dataset and implement both variance and standard deviation computations?\n"
      ],
      "metadata": {
        "id": "gGx6_0Ev1cX0"
      }
    },
    {
      "cell_type": "code",
      "source": [
        "import numpy as np\n",
        "import pandas as pd\n",
        "\n",
        "# Generate a random dataset with 100 values, mean=50, std=10\n",
        "data = np.random.normal(loc=50, scale=10, size=100)\n",
        "\n",
        "# Convert to a pandas DataFrame for convenience\n",
        "df = pd.DataFrame(data, columns=['Values'])\n",
        "\n",
        "# Compute variance\n",
        "variance = df['Values'].var()  # By default, pandas uses sample variance (ddof=1)\n",
        "\n",
        "# Compute standard deviation\n",
        "std_dev = df['Values'].std()   # Sample standard deviation\n",
        "\n",
        "print(f\"Variance: {variance:.2f}\")\n",
        "print(f\"Standard Deviation: {std_dev:.2f}\")\n"
      ],
      "metadata": {
        "colab": {
          "base_uri": "https://localhost:8080/"
        },
        "id": "8USCPAhK1gV9",
        "outputId": "205e762b-aabe-435d-a647-5ae2e176b87c"
      },
      "execution_count": 34,
      "outputs": [
        {
          "output_type": "stream",
          "name": "stdout",
          "text": [
            "Variance: 108.32\n",
            "Standard Deviation: 10.41\n"
          ]
        }
      ]
    },
    {
      "cell_type": "markdown",
      "source": [
        "23. Visualize skewness and kurtosis using Python libraries like matplotlib or seaborn?"
      ],
      "metadata": {
        "id": "ZfVqkvHN1mVU"
      }
    },
    {
      "cell_type": "code",
      "source": [
        "import numpy as np\n",
        "import pandas as pd\n",
        "import seaborn as sns\n",
        "import matplotlib.pyplot as plt\n",
        "from scipy.stats import skew, kurtosis\n",
        "\n",
        "# Generate sample data with some skew and kurtosis\n",
        "data = np.random.gamma(shape=2, scale=2, size=1000)  # Gamma distribution is skewed\n",
        "\n",
        "# Calculate skewness and kurtosis\n",
        "data_skewness = skew(data)\n",
        "data_kurtosis = kurtosis(data)  # excess kurtosis by default\n",
        "\n",
        "# Create a DataFrame for seaborn plotting\n",
        "df = pd.DataFrame(data, columns=['Value'])\n",
        "\n",
        "# Plot distribution with KDE\n",
        "plt.figure(figsize=(10, 6))\n",
        "sns.histplot(df['Value'], bins=30, kde=True, color='skyblue')\n",
        "\n",
        "# Add text box with skewness and kurtosis\n",
        "props = dict(boxstyle='round', facecolor='white', alpha=0.8)\n",
        "plt.text(x=plt.xlim()[1]*0.6, y=plt.ylim()[1]*0.8,\n",
        "         s=f\"Skewness: {data_skewness:.2f}\\nKurtosis: {data_kurtosis:.2f}\",\n",
        "         bbox=props, fontsize=12)\n",
        "\n",
        "plt.title('Distribution with Skewness and Kurtosis')\n",
        "plt.xlabel('Value')\n",
        "plt.ylabel('Frequency')\n",
        "plt.show()\n"
      ],
      "metadata": {
        "colab": {
          "base_uri": "https://localhost:8080/",
          "height": 564
        },
        "id": "Yb9o7Y_k1rZd",
        "outputId": "ad171156-878b-4419-8262-c14cd1d3ba7f"
      },
      "execution_count": 35,
      "outputs": [
        {
          "output_type": "display_data",
          "data": {
            "text/plain": [
              "<Figure size 1000x600 with 1 Axes>"
            ],
            "image/png": "[encoded data removed]"
          },
          "metadata": {}
        }
      ]
    },
    {
      "cell_type": "markdown",
      "source": [
        "24.  Implement the Pearson and Spearman correlation coefficients for a dataset."
      ],
      "metadata": {
        "id": "Lae_Is5T11D9"
      }
    },
    {
      "cell_type": "code",
      "source": [
        "import pandas as pd\n",
        "import numpy as np\n",
        "from scipy.stats import pearsonr, spearmanr\n",
        "\n",
        "# Generate sample data\n",
        "np.random.seed(42)\n",
        "data = {\n",
        "    'X': np.random.normal(0, 1, 100),\n",
        "    'Y': np.random.normal(0, 1, 100)\n",
        "}\n",
        "\n",
        "df = pd.DataFrame(data)\n",
        "\n",
        "# Compute Pearson correlation coefficient and p-value\n",
        "pearson_corr, pearson_p = pearsonr(df['X'], df['Y'])\n",
        "\n",
        "# Compute Spearman correlation coefficient and p-value\n",
        "spearman_corr, spearman_p = spearmanr(df['X'], df['Y'])\n",
        "\n",
        "print(f\"Pearson correlation: {pearson_corr:.3f} (p-value: {pearson_p:.3f})\")\n",
        "print(f\"Spearman correlation: {spearman_corr:.3f} (p-value: {spearman_p:.3f})\")\n"
      ],
      "metadata": {
        "colab": {
          "base_uri": "https://localhost:8080/"
        },
        "id": "OtvVe2A214ju",
        "outputId": "46240c6f-e60e-4d76-aade-9605f3c060bd"
      },
      "execution_count": 36,
      "outputs": [
        {
          "output_type": "stream",
          "name": "stdout",
          "text": [
            "Pearson correlation: -0.136 (p-value: 0.176)\n",
            "Spearman correlation: -0.108 (p-value: 0.285)\n"
          ]
        }
      ]
    }
  ]
}